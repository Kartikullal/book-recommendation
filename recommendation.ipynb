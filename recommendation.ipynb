{
 "cells": [
  {
   "cell_type": "code",
   "execution_count": 125,
   "id": "2076448b",
   "metadata": {},
   "outputs": [],
   "source": [
    "import numpy as np # linear algebra\n",
    "import pandas as pd # data processing, CSV file I/O (e.g. pd.read_csv)"
   ]
  },
  {
   "cell_type": "code",
   "execution_count": 126,
   "id": "c0341398",
   "metadata": {},
   "outputs": [
    {
     "name": "stderr",
     "output_type": "stream",
     "text": [
      "/var/folders/tr/1ykjgs6x0dlg5g_7jm6k81qr0000gn/T/ipykernel_8100/1239598326.py:1: DtypeWarning: Columns (3) have mixed types. Specify dtype option on import or set low_memory=False.\n",
      "  book_df = pd.read_csv('Books.csv')\n"
     ]
    }
   ],
   "source": [
    "book_df = pd.read_csv('Books.csv')\n",
    "ratings_df = pd.read_csv('Ratings.csv').sample(40000)\n",
    "user_df = pd.read_csv('Users.csv')\n",
    "user_rating_df = ratings_df.merge(user_df, left_on = 'User-ID', right_on = 'User-ID')"
   ]
  },
  {
   "cell_type": "code",
   "execution_count": 127,
   "id": "494295de",
   "metadata": {},
   "outputs": [],
   "source": [
    "book_user_rating = book_df.merge(user_rating_df, left_on = 'ISBN',right_on = 'ISBN')\n",
    "book_user_rating = book_user_rating[['ISBN', 'Book-Title', 'Book-Author', 'User-ID', 'Book-Rating']]\n",
    "book_user_rating.reset_index(drop=True, inplace = True)"
   ]
  },
  {
   "cell_type": "code",
   "execution_count": 128,
   "id": "7a6e3cf8",
   "metadata": {},
   "outputs": [
    {
     "data": {
      "text/html": [
       "<div>\n",
       "<style scoped>\n",
       "    .dataframe tbody tr th:only-of-type {\n",
       "        vertical-align: middle;\n",
       "    }\n",
       "\n",
       "    .dataframe tbody tr th {\n",
       "        vertical-align: top;\n",
       "    }\n",
       "\n",
       "    .dataframe thead th {\n",
       "        text-align: right;\n",
       "    }\n",
       "</style>\n",
       "<table border=\"1\" class=\"dataframe\">\n",
       "  <thead>\n",
       "    <tr style=\"text-align: right;\">\n",
       "      <th></th>\n",
       "      <th>ISBN</th>\n",
       "      <th>Book-Title</th>\n",
       "      <th>Book-Author</th>\n",
       "      <th>User-ID</th>\n",
       "      <th>Book-Rating</th>\n",
       "    </tr>\n",
       "  </thead>\n",
       "  <tbody>\n",
       "    <tr>\n",
       "      <th>0</th>\n",
       "      <td>0060973129</td>\n",
       "      <td>Decision in Normandy</td>\n",
       "      <td>Carlo D'Este</td>\n",
       "      <td>2954</td>\n",
       "      <td>8</td>\n",
       "    </tr>\n",
       "    <tr>\n",
       "      <th>1</th>\n",
       "      <td>0374157065</td>\n",
       "      <td>Flu: The Story of the Great Influenza Pandemic...</td>\n",
       "      <td>Gina Bari Kolata</td>\n",
       "      <td>208059</td>\n",
       "      <td>6</td>\n",
       "    </tr>\n",
       "    <tr>\n",
       "      <th>2</th>\n",
       "      <td>0399135782</td>\n",
       "      <td>The Kitchen God's Wife</td>\n",
       "      <td>Amy Tan</td>\n",
       "      <td>11676</td>\n",
       "      <td>9</td>\n",
       "    </tr>\n",
       "    <tr>\n",
       "      <th>3</th>\n",
       "      <td>0399135782</td>\n",
       "      <td>The Kitchen God's Wife</td>\n",
       "      <td>Amy Tan</td>\n",
       "      <td>148712</td>\n",
       "      <td>10</td>\n",
       "    </tr>\n",
       "    <tr>\n",
       "      <th>4</th>\n",
       "      <td>0887841740</td>\n",
       "      <td>The Middle Stories</td>\n",
       "      <td>Sheila Heti</td>\n",
       "      <td>92861</td>\n",
       "      <td>0</td>\n",
       "    </tr>\n",
       "    <tr>\n",
       "      <th>...</th>\n",
       "      <td>...</td>\n",
       "      <td>...</td>\n",
       "      <td>...</td>\n",
       "      <td>...</td>\n",
       "      <td>...</td>\n",
       "    </tr>\n",
       "    <tr>\n",
       "      <th>35915</th>\n",
       "      <td>0425086615</td>\n",
       "      <td>\\Dearest Amanda...\\\": An Executives Advice to ...</td>\n",
       "      <td>Eliza Collins</td>\n",
       "      <td>259901</td>\n",
       "      <td>0</td>\n",
       "    </tr>\n",
       "    <tr>\n",
       "      <th>35916</th>\n",
       "      <td>0553234102</td>\n",
       "      <td>R Is for Rocket</td>\n",
       "      <td>Ray Bradbury</td>\n",
       "      <td>259901</td>\n",
       "      <td>0</td>\n",
       "    </tr>\n",
       "    <tr>\n",
       "      <th>35917</th>\n",
       "      <td>0679861548</td>\n",
       "      <td>Wolverine: Duty and Honor (X-Men Marvel Comics)</td>\n",
       "      <td>Francine Hughes</td>\n",
       "      <td>259901</td>\n",
       "      <td>7</td>\n",
       "    </tr>\n",
       "    <tr>\n",
       "      <th>35918</th>\n",
       "      <td>0553217984</td>\n",
       "      <td>In Serena's Web (Loveswept, No 189)</td>\n",
       "      <td>Kay Hooper</td>\n",
       "      <td>266657</td>\n",
       "      <td>0</td>\n",
       "    </tr>\n",
       "    <tr>\n",
       "      <th>35919</th>\n",
       "      <td>0739430157</td>\n",
       "      <td>Cold Silence: When There's No Place Left To Hi...</td>\n",
       "      <td>Danielle Girard</td>\n",
       "      <td>268751</td>\n",
       "      <td>0</td>\n",
       "    </tr>\n",
       "  </tbody>\n",
       "</table>\n",
       "<p>35920 rows × 5 columns</p>\n",
       "</div>"
      ],
      "text/plain": [
       "             ISBN                                         Book-Title  \\\n",
       "0      0060973129                               Decision in Normandy   \n",
       "1      0374157065  Flu: The Story of the Great Influenza Pandemic...   \n",
       "2      0399135782                             The Kitchen God's Wife   \n",
       "3      0399135782                             The Kitchen God's Wife   \n",
       "4      0887841740                                 The Middle Stories   \n",
       "...           ...                                                ...   \n",
       "35915  0425086615  \\Dearest Amanda...\\\": An Executives Advice to ...   \n",
       "35916  0553234102                                    R Is for Rocket   \n",
       "35917  0679861548    Wolverine: Duty and Honor (X-Men Marvel Comics)   \n",
       "35918  0553217984                In Serena's Web (Loveswept, No 189)   \n",
       "35919  0739430157  Cold Silence: When There's No Place Left To Hi...   \n",
       "\n",
       "            Book-Author  User-ID  Book-Rating  \n",
       "0          Carlo D'Este     2954            8  \n",
       "1      Gina Bari Kolata   208059            6  \n",
       "2               Amy Tan    11676            9  \n",
       "3               Amy Tan   148712           10  \n",
       "4           Sheila Heti    92861            0  \n",
       "...                 ...      ...          ...  \n",
       "35915     Eliza Collins   259901            0  \n",
       "35916      Ray Bradbury   259901            0  \n",
       "35917   Francine Hughes   259901            7  \n",
       "35918        Kay Hooper   266657            0  \n",
       "35919   Danielle Girard   268751            0  \n",
       "\n",
       "[35920 rows x 5 columns]"
      ]
     },
     "execution_count": 128,
     "metadata": {},
     "output_type": "execute_result"
    }
   ],
   "source": [
    "book_user_rating\n"
   ]
  },
  {
   "cell_type": "code",
   "execution_count": 129,
   "id": "fa8b5416",
   "metadata": {},
   "outputs": [],
   "source": [
    "d ={}\n",
    "for i,j in enumerate(book_user_rating.ISBN.unique()):\n",
    "    d[j] =i\n",
    "book_user_rating['unique_id_book'] = book_user_rating['ISBN'].map(d)"
   ]
  },
  {
   "cell_type": "code",
   "execution_count": 130,
   "id": "4e739ec2",
   "metadata": {},
   "outputs": [],
   "source": [
    "users_books_pivot_matrix_df = book_user_rating.pivot(index='User-ID', \n",
    "                                                          columns='unique_id_book', \n",
    "                                                          values='Book-Rating').fillna(0)"
   ]
  },
  {
   "cell_type": "code",
   "execution_count": 131,
   "id": "820985a4",
   "metadata": {},
   "outputs": [
    {
     "data": {
      "text/html": [
       "<div>\n",
       "<style scoped>\n",
       "    .dataframe tbody tr th:only-of-type {\n",
       "        vertical-align: middle;\n",
       "    }\n",
       "\n",
       "    .dataframe tbody tr th {\n",
       "        vertical-align: top;\n",
       "    }\n",
       "\n",
       "    .dataframe thead th {\n",
       "        text-align: right;\n",
       "    }\n",
       "</style>\n",
       "<table border=\"1\" class=\"dataframe\">\n",
       "  <thead>\n",
       "    <tr style=\"text-align: right;\">\n",
       "      <th>unique_id_book</th>\n",
       "      <th>0</th>\n",
       "      <th>1</th>\n",
       "      <th>2</th>\n",
       "      <th>3</th>\n",
       "      <th>4</th>\n",
       "      <th>5</th>\n",
       "      <th>6</th>\n",
       "      <th>7</th>\n",
       "      <th>8</th>\n",
       "      <th>9</th>\n",
       "      <th>...</th>\n",
       "      <th>26167</th>\n",
       "      <th>26168</th>\n",
       "      <th>26169</th>\n",
       "      <th>26170</th>\n",
       "      <th>26171</th>\n",
       "      <th>26172</th>\n",
       "      <th>26173</th>\n",
       "      <th>26174</th>\n",
       "      <th>26175</th>\n",
       "      <th>26176</th>\n",
       "    </tr>\n",
       "    <tr>\n",
       "      <th>User-ID</th>\n",
       "      <th></th>\n",
       "      <th></th>\n",
       "      <th></th>\n",
       "      <th></th>\n",
       "      <th></th>\n",
       "      <th></th>\n",
       "      <th></th>\n",
       "      <th></th>\n",
       "      <th></th>\n",
       "      <th></th>\n",
       "      <th></th>\n",
       "      <th></th>\n",
       "      <th></th>\n",
       "      <th></th>\n",
       "      <th></th>\n",
       "      <th></th>\n",
       "      <th></th>\n",
       "      <th></th>\n",
       "      <th></th>\n",
       "      <th></th>\n",
       "      <th></th>\n",
       "    </tr>\n",
       "  </thead>\n",
       "  <tbody>\n",
       "    <tr>\n",
       "      <th>17</th>\n",
       "      <td>0.0</td>\n",
       "      <td>0.0</td>\n",
       "      <td>0.0</td>\n",
       "      <td>0.0</td>\n",
       "      <td>0.0</td>\n",
       "      <td>0.0</td>\n",
       "      <td>0.0</td>\n",
       "      <td>0.0</td>\n",
       "      <td>0.0</td>\n",
       "      <td>0.0</td>\n",
       "      <td>...</td>\n",
       "      <td>0.0</td>\n",
       "      <td>0.0</td>\n",
       "      <td>0.0</td>\n",
       "      <td>0.0</td>\n",
       "      <td>0.0</td>\n",
       "      <td>0.0</td>\n",
       "      <td>0.0</td>\n",
       "      <td>0.0</td>\n",
       "      <td>0.0</td>\n",
       "      <td>0.0</td>\n",
       "    </tr>\n",
       "    <tr>\n",
       "      <th>32</th>\n",
       "      <td>0.0</td>\n",
       "      <td>0.0</td>\n",
       "      <td>0.0</td>\n",
       "      <td>0.0</td>\n",
       "      <td>0.0</td>\n",
       "      <td>0.0</td>\n",
       "      <td>0.0</td>\n",
       "      <td>0.0</td>\n",
       "      <td>0.0</td>\n",
       "      <td>0.0</td>\n",
       "      <td>...</td>\n",
       "      <td>0.0</td>\n",
       "      <td>0.0</td>\n",
       "      <td>0.0</td>\n",
       "      <td>0.0</td>\n",
       "      <td>0.0</td>\n",
       "      <td>0.0</td>\n",
       "      <td>0.0</td>\n",
       "      <td>0.0</td>\n",
       "      <td>0.0</td>\n",
       "      <td>0.0</td>\n",
       "    </tr>\n",
       "    <tr>\n",
       "      <th>53</th>\n",
       "      <td>0.0</td>\n",
       "      <td>0.0</td>\n",
       "      <td>0.0</td>\n",
       "      <td>0.0</td>\n",
       "      <td>0.0</td>\n",
       "      <td>0.0</td>\n",
       "      <td>0.0</td>\n",
       "      <td>0.0</td>\n",
       "      <td>0.0</td>\n",
       "      <td>0.0</td>\n",
       "      <td>...</td>\n",
       "      <td>0.0</td>\n",
       "      <td>0.0</td>\n",
       "      <td>0.0</td>\n",
       "      <td>0.0</td>\n",
       "      <td>0.0</td>\n",
       "      <td>0.0</td>\n",
       "      <td>0.0</td>\n",
       "      <td>0.0</td>\n",
       "      <td>0.0</td>\n",
       "      <td>0.0</td>\n",
       "    </tr>\n",
       "    <tr>\n",
       "      <th>67</th>\n",
       "      <td>0.0</td>\n",
       "      <td>0.0</td>\n",
       "      <td>0.0</td>\n",
       "      <td>0.0</td>\n",
       "      <td>0.0</td>\n",
       "      <td>0.0</td>\n",
       "      <td>0.0</td>\n",
       "      <td>0.0</td>\n",
       "      <td>0.0</td>\n",
       "      <td>0.0</td>\n",
       "      <td>...</td>\n",
       "      <td>0.0</td>\n",
       "      <td>0.0</td>\n",
       "      <td>0.0</td>\n",
       "      <td>0.0</td>\n",
       "      <td>0.0</td>\n",
       "      <td>0.0</td>\n",
       "      <td>0.0</td>\n",
       "      <td>0.0</td>\n",
       "      <td>0.0</td>\n",
       "      <td>0.0</td>\n",
       "    </tr>\n",
       "    <tr>\n",
       "      <th>70</th>\n",
       "      <td>0.0</td>\n",
       "      <td>0.0</td>\n",
       "      <td>0.0</td>\n",
       "      <td>0.0</td>\n",
       "      <td>0.0</td>\n",
       "      <td>0.0</td>\n",
       "      <td>0.0</td>\n",
       "      <td>0.0</td>\n",
       "      <td>0.0</td>\n",
       "      <td>0.0</td>\n",
       "      <td>...</td>\n",
       "      <td>0.0</td>\n",
       "      <td>0.0</td>\n",
       "      <td>0.0</td>\n",
       "      <td>0.0</td>\n",
       "      <td>0.0</td>\n",
       "      <td>0.0</td>\n",
       "      <td>0.0</td>\n",
       "      <td>0.0</td>\n",
       "      <td>0.0</td>\n",
       "      <td>0.0</td>\n",
       "    </tr>\n",
       "  </tbody>\n",
       "</table>\n",
       "<p>5 rows × 26177 columns</p>\n",
       "</div>"
      ],
      "text/plain": [
       "unique_id_book  0      1      2      3      4      5      6      7      8      \\\n",
       "User-ID                                                                         \n",
       "17                0.0    0.0    0.0    0.0    0.0    0.0    0.0    0.0    0.0   \n",
       "32                0.0    0.0    0.0    0.0    0.0    0.0    0.0    0.0    0.0   \n",
       "53                0.0    0.0    0.0    0.0    0.0    0.0    0.0    0.0    0.0   \n",
       "67                0.0    0.0    0.0    0.0    0.0    0.0    0.0    0.0    0.0   \n",
       "70                0.0    0.0    0.0    0.0    0.0    0.0    0.0    0.0    0.0   \n",
       "\n",
       "unique_id_book  9      ...  26167  26168  26169  26170  26171  26172  26173  \\\n",
       "User-ID                ...                                                    \n",
       "17                0.0  ...    0.0    0.0    0.0    0.0    0.0    0.0    0.0   \n",
       "32                0.0  ...    0.0    0.0    0.0    0.0    0.0    0.0    0.0   \n",
       "53                0.0  ...    0.0    0.0    0.0    0.0    0.0    0.0    0.0   \n",
       "67                0.0  ...    0.0    0.0    0.0    0.0    0.0    0.0    0.0   \n",
       "70                0.0  ...    0.0    0.0    0.0    0.0    0.0    0.0    0.0   \n",
       "\n",
       "unique_id_book  26174  26175  26176  \n",
       "User-ID                              \n",
       "17                0.0    0.0    0.0  \n",
       "32                0.0    0.0    0.0  \n",
       "53                0.0    0.0    0.0  \n",
       "67                0.0    0.0    0.0  \n",
       "70                0.0    0.0    0.0  \n",
       "\n",
       "[5 rows x 26177 columns]"
      ]
     },
     "execution_count": 131,
     "metadata": {},
     "output_type": "execute_result"
    }
   ],
   "source": [
    "users_books_pivot_matrix_df.head()"
   ]
  },
  {
   "cell_type": "code",
   "execution_count": 132,
   "id": "42633c61",
   "metadata": {},
   "outputs": [
    {
     "data": {
      "text/plain": [
       "array([[0., 0., 0., ..., 0., 0., 0.],\n",
       "       [0., 0., 0., ..., 0., 0., 0.],\n",
       "       [0., 0., 0., ..., 0., 0., 0.],\n",
       "       ...,\n",
       "       [0., 0., 0., ..., 0., 0., 0.],\n",
       "       [0., 0., 0., ..., 0., 0., 0.],\n",
       "       [0., 0., 0., ..., 0., 0., 0.]])"
      ]
     },
     "execution_count": 132,
     "metadata": {},
     "output_type": "execute_result"
    }
   ],
   "source": [
    "users_books_pivot_matrix_df = users_books_pivot_matrix_df.values\n",
    "users_books_pivot_matrix_df"
   ]
  },
  {
   "cell_type": "code",
   "execution_count": 133,
   "id": "268634db",
   "metadata": {},
   "outputs": [],
   "source": [
    "from scipy.sparse.linalg import svds\n",
    "\n",
    "NUMBER_OF_FACTORS_MF = 15\n",
    "\n",
    "#Performs matrix factorization of the original user item matrix\n",
    "U, sigma, Vt = svds(users_books_pivot_matrix_df, k = NUMBER_OF_FACTORS_MF)"
   ]
  },
  {
   "cell_type": "code",
   "execution_count": null,
   "id": "97351831",
   "metadata": {},
   "outputs": [],
   "source": []
  },
  {
   "cell_type": "code",
   "execution_count": 134,
   "id": "37742f39",
   "metadata": {},
   "outputs": [
    {
     "data": {
      "text/plain": [
       "(15, 15)"
      ]
     },
     "execution_count": 134,
     "metadata": {},
     "output_type": "execute_result"
    }
   ],
   "source": [
    "sigma = np.diag(sigma)\n",
    "sigma.shape"
   ]
  },
  {
   "cell_type": "code",
   "execution_count": 135,
   "id": "cce059a1",
   "metadata": {},
   "outputs": [
    {
     "data": {
      "text/plain": [
       "array([[-1.19364551e-34,  1.66181982e-35, -1.57584337e-18, ...,\n",
       "        -4.39888283e-34,  0.00000000e+00,  0.00000000e+00],\n",
       "       [-6.61779258e-34,  3.23349658e-35, -8.73544445e-18, ...,\n",
       "         7.70263120e-35,  0.00000000e+00,  0.00000000e+00],\n",
       "       [ 2.06526450e-34, -3.14547040e-35,  5.57922106e-18, ...,\n",
       "         7.41836213e-34,  0.00000000e+00,  0.00000000e+00],\n",
       "       ...,\n",
       "       [ 2.24529917e-34, -2.99135965e-35,  5.30525805e-18, ...,\n",
       "         7.99648623e-34,  0.00000000e+00,  0.00000000e+00],\n",
       "       [-2.03456901e-35,  2.83206417e-36, -4.23963316e-19, ...,\n",
       "        -7.87200009e-35,  0.00000000e+00,  0.00000000e+00],\n",
       "       [-2.09394257e-34,  4.04999373e-35, -2.47940803e-18, ...,\n",
       "        -8.11636542e-34,  0.00000000e+00,  0.00000000e+00]])"
      ]
     },
     "execution_count": 135,
     "metadata": {},
     "output_type": "execute_result"
    }
   ],
   "source": [
    "all_user_predicted_ratings = np.dot(np.dot(U, sigma), Vt) \n",
    "all_user_predicted_ratings"
   ]
  },
  {
   "cell_type": "code",
   "execution_count": 136,
   "id": "58d472d9",
   "metadata": {},
   "outputs": [],
   "source": [
    "def top_cosine_similarity(data, book_id, top_n=10):\n",
    "    index = book_id \n",
    "    book_row = data[index, :]\n",
    "    magnitude = np.sqrt(np.einsum('ij, ij -> i', data, data))\n",
    "    similarity = np.dot(book_row, data.T) / (magnitude[index] * magnitude)\n",
    "    sort_indexes = np.argsort(-similarity)\n",
    "    return sort_indexes[:top_n]\n",
    "\n",
    "def similar_books(book_user_rating, book_id, top_indexes):\n",
    "    print('Recommendations for {0}: \\n'.format(\n",
    "    book_user_rating[book_user_rating.unique_id_book == book_id]['Book-Title'].values[0]))\n",
    "    for id in top_indexes + 1:\n",
    "        print(book_user_rating[book_user_rating.unique_id_book == id]['Book-Title'].values[0])"
   ]
  },
  {
   "cell_type": "code",
   "execution_count": 107,
   "id": "a118ffbd",
   "metadata": {},
   "outputs": [],
   "source": [
    "# def top_cosine_similarity(book_user_rating,data, book_id, top_n=10):\n",
    "#     index = book_user_rating.index[book_user_rating['ISBN'] == '1558746218'].tolist() \n",
    "#     book_row = data[index, :]\n",
    "#     magnitude = np.sqrt(np.einsum('ij, ij -> i', data, data))\n",
    "#     similarity = np.dot(book_row, data.T) / (magnitude[index] * magnitude)\n",
    "#     sort_indexes = np.argsort(-similarity)\n",
    "#     sort_indexes = sort_indexes[0]\n",
    "#     return sort_indexes[:top_n]\n",
    "\n",
    "# def similar_books(book_user_rating, book_id, top_indexes):\n",
    "#     print(top_indexes.shape)\n",
    "#     print('Recommendations for {0}: \\n'.format(\n",
    "#     book_user_rating[book_user_rating.ISBN == book_id]['Book-Title'].values[0]))\n",
    "#     for id in top_indexes + 1:\n",
    "#         print(book_user_rating.iloc[id]['Book-Title'])\n",
    "  "
   ]
  },
  {
   "cell_type": "code",
   "execution_count": 151,
   "id": "15ecfd58",
   "metadata": {},
   "outputs": [
    {
     "name": "stdout",
     "output_type": "stream",
     "text": [
      "Recommendations for The Firm: \n",
      "\n",
      "Murder at the Kennedy Center (Capital Crime Mysteries)\n",
      "Small Miracles of Love &amp; Friendship: Remarkable Coincidences of Warmth and Devotion\n",
      "Tapping the Dream Tree\n",
      "A Rage To Kill and Other True Cases : Anne Rule's Crime Files, Vol. 6 (Ann Rule's Crime Files)\n",
      "The Vampire Princess\n"
     ]
    },
    {
     "name": "stderr",
     "output_type": "stream",
     "text": [
      "/var/folders/tr/1ykjgs6x0dlg5g_7jm6k81qr0000gn/T/ipykernel_8100/437162856.py:5: RuntimeWarning: invalid value encountered in true_divide\n",
      "  similarity = np.dot(book_row, data.T) / (magnitude[index] * magnitude)\n"
     ]
    }
   ],
   "source": [
    "k = 50\n",
    "movie_id =205  \n",
    "top_n = 5\n",
    "sliced = Vt.T[:, :k] # representative data\n",
    "\n",
    "similar_books(book_user_rating, 205, top_cosine_similarity(sliced, movie_id, top_n))"
   ]
  },
  {
   "cell_type": "code",
   "execution_count": 124,
   "id": "c02f6b7d",
   "metadata": {},
   "outputs": [
    {
     "name": "stdout",
     "output_type": "stream",
     "text": [
      "(5,)\n",
      "Recommendations for And Then There Were None: \n",
      "\n",
      "The Kitchen God's Wife\n",
      "Dead Famous\n",
      "Garzanti - Gli Elefanti: Paula\n",
      "Gita a Tindari (La memoria)\n",
      "Rendez-vous a Bagdad\n"
     ]
    },
    {
     "name": "stderr",
     "output_type": "stream",
     "text": [
      "/var/folders/tr/1ykjgs6x0dlg5g_7jm6k81qr0000gn/T/ipykernel_8100/3654495838.py:5: RuntimeWarning: invalid value encountered in true_divide\n",
      "  similarity = np.dot(book_row, data.T) / (magnitude[index] * magnitude)\n"
     ]
    }
   ],
   "source": [
    "# k = 50\n",
    "# movie_id =1893699501  \n",
    "# top_n = 5\n",
    "# sliced = Vt.T[:, :k] # representative data\n",
    "\n",
    "# similar_books(book_user_rating, '0671704664', top_cosine_similarity(book_user_rating,sliced, movie_id, top_n))"
   ]
  },
  {
   "cell_type": "code",
   "execution_count": 58,
   "id": "1215b699",
   "metadata": {},
   "outputs": [
    {
     "data": {
      "text/html": [
       "<div>\n",
       "<style scoped>\n",
       "    .dataframe tbody tr th:only-of-type {\n",
       "        vertical-align: middle;\n",
       "    }\n",
       "\n",
       "    .dataframe tbody tr th {\n",
       "        vertical-align: top;\n",
       "    }\n",
       "\n",
       "    .dataframe thead th {\n",
       "        text-align: right;\n",
       "    }\n",
       "</style>\n",
       "<table border=\"1\" class=\"dataframe\">\n",
       "  <thead>\n",
       "    <tr style=\"text-align: right;\">\n",
       "      <th></th>\n",
       "      <th>ISBN</th>\n",
       "      <th>Book-Title</th>\n",
       "      <th>Book-Author</th>\n",
       "      <th>User-ID</th>\n",
       "      <th>Book-Rating</th>\n",
       "    </tr>\n",
       "  </thead>\n",
       "  <tbody>\n",
       "    <tr>\n",
       "      <th>3</th>\n",
       "      <td>1558746218</td>\n",
       "      <td>A Second Chicken Soup for the Woman's Soul (Ch...</td>\n",
       "      <td>Jack Canfield</td>\n",
       "      <td>256233</td>\n",
       "      <td>0</td>\n",
       "    </tr>\n",
       "  </tbody>\n",
       "</table>\n",
       "</div>"
      ],
      "text/plain": [
       "         ISBN                                         Book-Title  \\\n",
       "3  1558746218  A Second Chicken Soup for the Woman's Soul (Ch...   \n",
       "\n",
       "     Book-Author  User-ID  Book-Rating  \n",
       "3  Jack Canfield   256233            0  "
      ]
     },
     "execution_count": 58,
     "metadata": {},
     "output_type": "execute_result"
    }
   ],
   "source": [
    "book_user_rating[book_user_rating['ISBN'] == '1558746218']"
   ]
  },
  {
   "cell_type": "code",
   "execution_count": 110,
   "id": "404e2a30",
   "metadata": {},
   "outputs": [
    {
     "data": {
      "text/plain": [
       "[]"
      ]
     },
     "execution_count": 110,
     "metadata": {},
     "output_type": "execute_result"
    }
   ],
   "source": [
    "book_user_rating.index[book_user_rating['ISBN'] == '9781780221359'].tolist()"
   ]
  },
  {
   "cell_type": "code",
   "execution_count": 71,
   "id": "fddd33ce",
   "metadata": {},
   "outputs": [
    {
     "name": "stdout",
     "output_type": "stream",
     "text": [
      "Recommendations for Missouri Madhouse (American Chillers): \n",
      "\n"
     ]
    }
   ],
   "source": [
    "book_id = '1893699501'\n",
    "print('Recommendations for {0}: \\n'.format(\n",
    "    book_user_rating[book_user_rating.ISBN == book_id]['Book-Title'].values[0]))"
   ]
  },
  {
   "cell_type": "code",
   "execution_count": 72,
   "id": "367d4ed8",
   "metadata": {},
   "outputs": [
    {
     "data": {
      "text/plain": [
       "35837    Missouri Madhouse (American Chillers)\n",
       "Name: Book-Title, dtype: object"
      ]
     },
     "execution_count": 72,
     "metadata": {},
     "output_type": "execute_result"
    }
   ],
   "source": [
    "book_user_rating[book_user_rating.ISBN == book_id]['Book-Title']"
   ]
  },
  {
   "cell_type": "code",
   "execution_count": 104,
   "id": "dc474de6",
   "metadata": {},
   "outputs": [
    {
     "name": "stdout",
     "output_type": "stream",
     "text": [
      "The Kitchen God's Wife\n"
     ]
    }
   ],
   "source": [
    "print(book_user_rating.iloc[1]['Book-Title'])"
   ]
  },
  {
   "cell_type": "code",
   "execution_count": 148,
   "id": "cefee719",
   "metadata": {},
   "outputs": [
    {
     "name": "stdout",
     "output_type": "stream",
     "text": [
      "[5, 6, 7, 8, 9, 10, 11, 12, 13, 14, 15, 16, 17, 18, 19, 20, 21, 513, 514, 515, 516, 517, 518, 519, 520, 521, 522, 523, 527, 528, 529, 530, 531, 695, 696, 697, 698, 699, 700, 701, 702, 703, 704, 705, 706, 707, 708, 709, 710, 711, 712, 713, 714, 791, 792, 793, 915, 916, 917, 918, 919, 920, 921, 922, 923, 924, 925, 926, 927, 928, 929, 930, 931, 932, 933, 934, 1201, 1202, 1203, 1204, 1205, 1206, 1207, 1211, 1212, 1213, 1214, 1714, 1715, 1716, 2474, 2475, 2476, 2477, 2478, 2479, 2480, 2912, 2913, 2914, 2915, 2916, 2917, 2918, 2919, 2920, 2921, 2922, 2923, 2924, 2925, 2926, 2927, 2928, 2966, 2967, 2968, 2969, 2970, 2971, 2972, 2973, 2974, 2975, 2976, 2977, 2978, 2979, 3490, 3692, 3693, 3694, 3695, 3696, 3697, 3698, 3699, 3700, 3701, 3702, 3703, 3704, 3705, 3706, 3707, 3821, 3822, 3823, 3824, 4921, 4922, 4923, 4924, 4925, 4926, 4927, 4928, 4929, 5393, 5886, 6359, 6360, 6370, 6371, 6372, 6373, 6374, 6375, 6376, 6377, 6465, 6466, 6467, 6468, 6469, 6470, 6471, 6472, 6473, 6474, 6475, 6476, 6477, 7051, 7052, 7053, 7054, 7055, 7056, 7057, 7058, 7059, 10784, 10785, 16007, 18634, 21110, 21111, 21172, 27039, 28376, 29437, 31110, 35731]\n"
     ]
    }
   ],
   "source": [
    "index = book_user_rating.index[book_user_rating['Book-Author'] == 'John Grisham'].tolist()\n",
    "print(index)"
   ]
  },
  {
   "cell_type": "code",
   "execution_count": 118,
   "id": "595dec0b",
   "metadata": {},
   "outputs": [
    {
     "data": {
      "text/html": [
       "<div>\n",
       "<style scoped>\n",
       "    .dataframe tbody tr th:only-of-type {\n",
       "        vertical-align: middle;\n",
       "    }\n",
       "\n",
       "    .dataframe tbody tr th {\n",
       "        vertical-align: top;\n",
       "    }\n",
       "\n",
       "    .dataframe thead th {\n",
       "        text-align: right;\n",
       "    }\n",
       "</style>\n",
       "<table border=\"1\" class=\"dataframe\">\n",
       "  <thead>\n",
       "    <tr style=\"text-align: right;\">\n",
       "      <th></th>\n",
       "      <th>ISBN</th>\n",
       "      <th>Book-Title</th>\n",
       "      <th>Book-Author</th>\n",
       "      <th>User-ID</th>\n",
       "      <th>Book-Rating</th>\n",
       "    </tr>\n",
       "  </thead>\n",
       "  <tbody>\n",
       "  </tbody>\n",
       "</table>\n",
       "</div>"
      ],
      "text/plain": [
       "Empty DataFrame\n",
       "Columns: [ISBN, Book-Title, Book-Author, User-ID, Book-Rating]\n",
       "Index: []"
      ]
     },
     "execution_count": 118,
     "metadata": {},
     "output_type": "execute_result"
    }
   ],
   "source": [
    "book_user_rating[book_user_rating.index.isin(index)]"
   ]
  },
  {
   "cell_type": "code",
   "execution_count": 150,
   "id": "20c43612",
   "metadata": {},
   "outputs": [
    {
     "data": {
      "text/plain": [
       "ISBN                044021145X\n",
       "Book-Title            The Firm\n",
       "Book-Author       John Grisham\n",
       "User-ID                 225087\n",
       "Book-Rating                  0\n",
       "unique_id_book             205\n",
       "Name: 918, dtype: object"
      ]
     },
     "execution_count": 150,
     "metadata": {},
     "output_type": "execute_result"
    }
   ],
   "source": [
    "book_user_rating.iloc[918]"
   ]
  },
  {
   "cell_type": "code",
   "execution_count": 138,
   "id": "cdefb8d9",
   "metadata": {},
   "outputs": [
    {
     "data": {
      "text/html": [
       "<div>\n",
       "<style scoped>\n",
       "    .dataframe tbody tr th:only-of-type {\n",
       "        vertical-align: middle;\n",
       "    }\n",
       "\n",
       "    .dataframe tbody tr th {\n",
       "        vertical-align: top;\n",
       "    }\n",
       "\n",
       "    .dataframe thead th {\n",
       "        text-align: right;\n",
       "    }\n",
       "</style>\n",
       "<table border=\"1\" class=\"dataframe\">\n",
       "  <thead>\n",
       "    <tr style=\"text-align: right;\">\n",
       "      <th></th>\n",
       "      <th>ISBN</th>\n",
       "      <th>Book-Title</th>\n",
       "      <th>Book-Author</th>\n",
       "      <th>User-ID</th>\n",
       "      <th>Book-Rating</th>\n",
       "      <th>unique_id_book</th>\n",
       "    </tr>\n",
       "  </thead>\n",
       "  <tbody>\n",
       "  </tbody>\n",
       "</table>\n",
       "</div>"
      ],
      "text/plain": [
       "Empty DataFrame\n",
       "Columns: [ISBN, Book-Title, Book-Author, User-ID, Book-Rating, unique_id_book]\n",
       "Index: []"
      ]
     },
     "execution_count": 138,
     "metadata": {},
     "output_type": "execute_result"
    }
   ],
   "source": []
  },
  {
   "cell_type": "code",
   "execution_count": null,
   "id": "bbf8eaf0",
   "metadata": {},
   "outputs": [],
   "source": []
  }
 ],
 "metadata": {
  "kernelspec": {
   "display_name": "Python 3 (ipykernel)",
   "language": "python",
   "name": "python3"
  },
  "language_info": {
   "codemirror_mode": {
    "name": "ipython",
    "version": 3
   },
   "file_extension": ".py",
   "mimetype": "text/x-python",
   "name": "python",
   "nbconvert_exporter": "python",
   "pygments_lexer": "ipython3",
   "version": "3.8.13"
  }
 },
 "nbformat": 4,
 "nbformat_minor": 5
}
