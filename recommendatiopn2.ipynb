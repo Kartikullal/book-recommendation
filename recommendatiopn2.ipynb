{
 "cells": [
  {
   "cell_type": "code",
   "execution_count": 2,
   "id": "de2f18b3",
   "metadata": {},
   "outputs": [],
   "source": [
    "import warnings\n",
    "warnings.filterwarnings(\"ignore\")\n",
    "import pandas as pd\n",
    "import numpy as np\n",
    "import matplotlib.pyplot as plt\n",
    "from sklearn.metrics.pairwise import cosine_similarity\n",
    "import re\n",
    "from PIL import Image\n",
    "import io\n",
    "import requests\n",
    "import random\n",
    "import urllib.request\n",
    "import urllib\n",
    "from sklearn.feature_extraction.text import CountVectorizer\n",
    "import nltk\n",
    "from nltk.corpus import stopwords"
   ]
  },
  {
   "cell_type": "code",
   "execution_count": 3,
   "id": "bbf7ccf0",
   "metadata": {},
   "outputs": [
    {
     "data": {
      "text/html": [
       "<div>\n",
       "<style scoped>\n",
       "    .dataframe tbody tr th:only-of-type {\n",
       "        vertical-align: middle;\n",
       "    }\n",
       "\n",
       "    .dataframe tbody tr th {\n",
       "        vertical-align: top;\n",
       "    }\n",
       "\n",
       "    .dataframe thead th {\n",
       "        text-align: right;\n",
       "    }\n",
       "</style>\n",
       "<table border=\"1\" class=\"dataframe\">\n",
       "  <thead>\n",
       "    <tr style=\"text-align: right;\">\n",
       "      <th></th>\n",
       "      <th>ISBN</th>\n",
       "      <th>Book-Title</th>\n",
       "      <th>Book-Author</th>\n",
       "      <th>Year-Of-Publication</th>\n",
       "      <th>Publisher</th>\n",
       "      <th>Image-URL-S</th>\n",
       "      <th>Image-URL-M</th>\n",
       "      <th>Image-URL-L</th>\n",
       "    </tr>\n",
       "  </thead>\n",
       "  <tbody>\n",
       "    <tr>\n",
       "      <th>0</th>\n",
       "      <td>0195153448</td>\n",
       "      <td>Classical Mythology</td>\n",
       "      <td>Mark P. O. Morford</td>\n",
       "      <td>2002</td>\n",
       "      <td>Oxford University Press</td>\n",
       "      <td>http://images.amazon.com/images/P/0195153448.0...</td>\n",
       "      <td>http://images.amazon.com/images/P/0195153448.0...</td>\n",
       "      <td>http://images.amazon.com/images/P/0195153448.0...</td>\n",
       "    </tr>\n",
       "    <tr>\n",
       "      <th>1</th>\n",
       "      <td>0002005018</td>\n",
       "      <td>Clara Callan</td>\n",
       "      <td>Richard Bruce Wright</td>\n",
       "      <td>2001</td>\n",
       "      <td>HarperFlamingo Canada</td>\n",
       "      <td>http://images.amazon.com/images/P/0002005018.0...</td>\n",
       "      <td>http://images.amazon.com/images/P/0002005018.0...</td>\n",
       "      <td>http://images.amazon.com/images/P/0002005018.0...</td>\n",
       "    </tr>\n",
       "    <tr>\n",
       "      <th>2</th>\n",
       "      <td>0060973129</td>\n",
       "      <td>Decision in Normandy</td>\n",
       "      <td>Carlo D'Este</td>\n",
       "      <td>1991</td>\n",
       "      <td>HarperPerennial</td>\n",
       "      <td>http://images.amazon.com/images/P/0060973129.0...</td>\n",
       "      <td>http://images.amazon.com/images/P/0060973129.0...</td>\n",
       "      <td>http://images.amazon.com/images/P/0060973129.0...</td>\n",
       "    </tr>\n",
       "  </tbody>\n",
       "</table>\n",
       "</div>"
      ],
      "text/plain": [
       "         ISBN            Book-Title           Book-Author Year-Of-Publication  \\\n",
       "0  0195153448   Classical Mythology    Mark P. O. Morford                2002   \n",
       "1  0002005018          Clara Callan  Richard Bruce Wright                2001   \n",
       "2  0060973129  Decision in Normandy          Carlo D'Este                1991   \n",
       "\n",
       "                 Publisher                                        Image-URL-S  \\\n",
       "0  Oxford University Press  http://images.amazon.com/images/P/0195153448.0...   \n",
       "1    HarperFlamingo Canada  http://images.amazon.com/images/P/0002005018.0...   \n",
       "2          HarperPerennial  http://images.amazon.com/images/P/0060973129.0...   \n",
       "\n",
       "                                         Image-URL-M  \\\n",
       "0  http://images.amazon.com/images/P/0195153448.0...   \n",
       "1  http://images.amazon.com/images/P/0002005018.0...   \n",
       "2  http://images.amazon.com/images/P/0060973129.0...   \n",
       "\n",
       "                                         Image-URL-L  \n",
       "0  http://images.amazon.com/images/P/0195153448.0...  \n",
       "1  http://images.amazon.com/images/P/0002005018.0...  \n",
       "2  http://images.amazon.com/images/P/0060973129.0...  "
      ]
     },
     "execution_count": 3,
     "metadata": {},
     "output_type": "execute_result"
    }
   ],
   "source": [
    "# Reading Books dataset (details about books)\n",
    "books=pd.read_csv(\"Data/Books.csv\")\n",
    "books.head(3)"
   ]
  },
  {
   "cell_type": "code",
   "execution_count": 81,
   "id": "51a05254",
   "metadata": {},
   "outputs": [
    {
     "data": {
      "text/html": [
       "<div>\n",
       "<style scoped>\n",
       "    .dataframe tbody tr th:only-of-type {\n",
       "        vertical-align: middle;\n",
       "    }\n",
       "\n",
       "    .dataframe tbody tr th {\n",
       "        vertical-align: top;\n",
       "    }\n",
       "\n",
       "    .dataframe thead th {\n",
       "        text-align: right;\n",
       "    }\n",
       "</style>\n",
       "<table border=\"1\" class=\"dataframe\">\n",
       "  <thead>\n",
       "    <tr style=\"text-align: right;\">\n",
       "      <th></th>\n",
       "      <th>User-ID</th>\n",
       "      <th>ISBN</th>\n",
       "      <th>Book-Rating</th>\n",
       "    </tr>\n",
       "  </thead>\n",
       "  <tbody>\n",
       "    <tr>\n",
       "      <th>0</th>\n",
       "      <td>276725</td>\n",
       "      <td>034545104X</td>\n",
       "      <td>0</td>\n",
       "    </tr>\n",
       "    <tr>\n",
       "      <th>1</th>\n",
       "      <td>276726</td>\n",
       "      <td>0155061224</td>\n",
       "      <td>5</td>\n",
       "    </tr>\n",
       "    <tr>\n",
       "      <th>2</th>\n",
       "      <td>276727</td>\n",
       "      <td>0446520802</td>\n",
       "      <td>0</td>\n",
       "    </tr>\n",
       "  </tbody>\n",
       "</table>\n",
       "</div>"
      ],
      "text/plain": [
       "   User-ID        ISBN  Book-Rating\n",
       "0   276725  034545104X            0\n",
       "1   276726  0155061224            5\n",
       "2   276727  0446520802            0"
      ]
     },
     "execution_count": 81,
     "metadata": {},
     "output_type": "execute_result"
    }
   ],
   "source": [
    "# Reading ratings dataset (details about users, ratings, and book-id)\n",
    "rating=pd.read_csv(\"Data/Ratings.csv\")\n",
    "rating.head(3)"
   ]
  },
  {
   "cell_type": "code",
   "execution_count": 82,
   "id": "e0cff769",
   "metadata": {},
   "outputs": [
    {
     "data": {
      "text/html": [
       "<div>\n",
       "<style scoped>\n",
       "    .dataframe tbody tr th:only-of-type {\n",
       "        vertical-align: middle;\n",
       "    }\n",
       "\n",
       "    .dataframe tbody tr th {\n",
       "        vertical-align: top;\n",
       "    }\n",
       "\n",
       "    .dataframe thead th {\n",
       "        text-align: right;\n",
       "    }\n",
       "</style>\n",
       "<table border=\"1\" class=\"dataframe\">\n",
       "  <thead>\n",
       "    <tr style=\"text-align: right;\">\n",
       "      <th></th>\n",
       "      <th>User-ID</th>\n",
       "      <th>Location</th>\n",
       "      <th>Age</th>\n",
       "    </tr>\n",
       "  </thead>\n",
       "  <tbody>\n",
       "    <tr>\n",
       "      <th>0</th>\n",
       "      <td>1</td>\n",
       "      <td>nyc, new york, usa</td>\n",
       "      <td>NaN</td>\n",
       "    </tr>\n",
       "    <tr>\n",
       "      <th>1</th>\n",
       "      <td>2</td>\n",
       "      <td>stockton, california, usa</td>\n",
       "      <td>18.0</td>\n",
       "    </tr>\n",
       "    <tr>\n",
       "      <th>2</th>\n",
       "      <td>3</td>\n",
       "      <td>moscow, yukon territory, russia</td>\n",
       "      <td>NaN</td>\n",
       "    </tr>\n",
       "  </tbody>\n",
       "</table>\n",
       "</div>"
      ],
      "text/plain": [
       "   User-ID                         Location   Age\n",
       "0        1               nyc, new york, usa   NaN\n",
       "1        2        stockton, california, usa  18.0\n",
       "2        3  moscow, yukon territory, russia   NaN"
      ]
     },
     "execution_count": 82,
     "metadata": {},
     "output_type": "execute_result"
    }
   ],
   "source": [
    "# Details about users\n",
    "users=pd.read_csv(\"Data/Users.csv\")\n",
    "users.head(3)"
   ]
  },
  {
   "cell_type": "code",
   "execution_count": 83,
   "id": "c43b51d8",
   "metadata": {},
   "outputs": [
    {
     "name": "stdout",
     "output_type": "stream",
     "text": [
      "Books Shape:  (271360, 8)\n",
      "Ratings Shape:  (1149780, 3)\n",
      "Users Shape:  (278858, 3)\n"
     ]
    }
   ],
   "source": [
    "# Shape of the dataset\n",
    "\n",
    "print(\"Books Shape: \" ,books.shape )\n",
    "print(\"Ratings Shape: \" ,rating.shape )\n",
    "print(\"Users Shape: \" ,users.shape )\n"
   ]
  },
  {
   "cell_type": "code",
   "execution_count": 84,
   "id": "dd111053",
   "metadata": {},
   "outputs": [
    {
     "name": "stdout",
     "output_type": "stream",
     "text": [
      "Any null values in Books:\n",
      " ISBN                   0\n",
      "Book-Title             0\n",
      "Book-Author            1\n",
      "Year-Of-Publication    0\n",
      "Publisher              2\n",
      "Image-URL-S            0\n",
      "Image-URL-M            0\n",
      "Image-URL-L            3\n",
      "dtype: int64\n",
      "\n",
      "Any null values in Ratings:\n",
      "  User-ID        0\n",
      "ISBN           0\n",
      "Book-Rating    0\n",
      "dtype: int64\n",
      "\n",
      "Any null values in Users:\n",
      " User-ID          0\n",
      "Location         0\n",
      "Age         110762\n",
      "dtype: int64\n"
     ]
    }
   ],
   "source": [
    "#Checking for null values\n",
    "\n",
    "print(\"Any null values in Books:\\n\" ,books.isnull().sum())\n",
    "print()\n",
    "print(\"Any null values in Ratings:\\n \",rating.isnull().sum())\n",
    "print()\n",
    "print(\"Any null values in Users:\\n\",users.isnull().sum())"
   ]
  },
  {
   "cell_type": "code",
   "execution_count": 85,
   "id": "752dff90",
   "metadata": {},
   "outputs": [
    {
     "data": {
      "text/html": [
       "<div>\n",
       "<style scoped>\n",
       "    .dataframe tbody tr th:only-of-type {\n",
       "        vertical-align: middle;\n",
       "    }\n",
       "\n",
       "    .dataframe tbody tr th {\n",
       "        vertical-align: top;\n",
       "    }\n",
       "\n",
       "    .dataframe thead th {\n",
       "        text-align: right;\n",
       "    }\n",
       "</style>\n",
       "<table border=\"1\" class=\"dataframe\">\n",
       "  <thead>\n",
       "    <tr style=\"text-align: right;\">\n",
       "      <th></th>\n",
       "      <th>ISBN</th>\n",
       "      <th>Book-Title</th>\n",
       "      <th>Book-Author</th>\n",
       "      <th>Year-Of-Publication</th>\n",
       "      <th>Publisher</th>\n",
       "      <th>Image-URL-S</th>\n",
       "      <th>Image-URL-M</th>\n",
       "      <th>Image-URL-L</th>\n",
       "      <th>User-ID</th>\n",
       "      <th>Book-Rating</th>\n",
       "    </tr>\n",
       "  </thead>\n",
       "  <tbody>\n",
       "    <tr>\n",
       "      <th>0</th>\n",
       "      <td>0195153448</td>\n",
       "      <td>Classical Mythology</td>\n",
       "      <td>Mark P. O. Morford</td>\n",
       "      <td>2002</td>\n",
       "      <td>Oxford University Press</td>\n",
       "      <td>http://images.amazon.com/images/P/0195153448.0...</td>\n",
       "      <td>http://images.amazon.com/images/P/0195153448.0...</td>\n",
       "      <td>http://images.amazon.com/images/P/0195153448.0...</td>\n",
       "      <td>2</td>\n",
       "      <td>0</td>\n",
       "    </tr>\n",
       "    <tr>\n",
       "      <th>1</th>\n",
       "      <td>0002005018</td>\n",
       "      <td>Clara Callan</td>\n",
       "      <td>Richard Bruce Wright</td>\n",
       "      <td>2001</td>\n",
       "      <td>HarperFlamingo Canada</td>\n",
       "      <td>http://images.amazon.com/images/P/0002005018.0...</td>\n",
       "      <td>http://images.amazon.com/images/P/0002005018.0...</td>\n",
       "      <td>http://images.amazon.com/images/P/0002005018.0...</td>\n",
       "      <td>8</td>\n",
       "      <td>5</td>\n",
       "    </tr>\n",
       "    <tr>\n",
       "      <th>2</th>\n",
       "      <td>0002005018</td>\n",
       "      <td>Clara Callan</td>\n",
       "      <td>Richard Bruce Wright</td>\n",
       "      <td>2001</td>\n",
       "      <td>HarperFlamingo Canada</td>\n",
       "      <td>http://images.amazon.com/images/P/0002005018.0...</td>\n",
       "      <td>http://images.amazon.com/images/P/0002005018.0...</td>\n",
       "      <td>http://images.amazon.com/images/P/0002005018.0...</td>\n",
       "      <td>11400</td>\n",
       "      <td>0</td>\n",
       "    </tr>\n",
       "    <tr>\n",
       "      <th>3</th>\n",
       "      <td>0002005018</td>\n",
       "      <td>Clara Callan</td>\n",
       "      <td>Richard Bruce Wright</td>\n",
       "      <td>2001</td>\n",
       "      <td>HarperFlamingo Canada</td>\n",
       "      <td>http://images.amazon.com/images/P/0002005018.0...</td>\n",
       "      <td>http://images.amazon.com/images/P/0002005018.0...</td>\n",
       "      <td>http://images.amazon.com/images/P/0002005018.0...</td>\n",
       "      <td>11676</td>\n",
       "      <td>8</td>\n",
       "    </tr>\n",
       "    <tr>\n",
       "      <th>4</th>\n",
       "      <td>0002005018</td>\n",
       "      <td>Clara Callan</td>\n",
       "      <td>Richard Bruce Wright</td>\n",
       "      <td>2001</td>\n",
       "      <td>HarperFlamingo Canada</td>\n",
       "      <td>http://images.amazon.com/images/P/0002005018.0...</td>\n",
       "      <td>http://images.amazon.com/images/P/0002005018.0...</td>\n",
       "      <td>http://images.amazon.com/images/P/0002005018.0...</td>\n",
       "      <td>41385</td>\n",
       "      <td>0</td>\n",
       "    </tr>\n",
       "  </tbody>\n",
       "</table>\n",
       "</div>"
      ],
      "text/plain": [
       "         ISBN           Book-Title           Book-Author Year-Of-Publication  \\\n",
       "0  0195153448  Classical Mythology    Mark P. O. Morford                2002   \n",
       "1  0002005018         Clara Callan  Richard Bruce Wright                2001   \n",
       "2  0002005018         Clara Callan  Richard Bruce Wright                2001   \n",
       "3  0002005018         Clara Callan  Richard Bruce Wright                2001   \n",
       "4  0002005018         Clara Callan  Richard Bruce Wright                2001   \n",
       "\n",
       "                 Publisher                                        Image-URL-S  \\\n",
       "0  Oxford University Press  http://images.amazon.com/images/P/0195153448.0...   \n",
       "1    HarperFlamingo Canada  http://images.amazon.com/images/P/0002005018.0...   \n",
       "2    HarperFlamingo Canada  http://images.amazon.com/images/P/0002005018.0...   \n",
       "3    HarperFlamingo Canada  http://images.amazon.com/images/P/0002005018.0...   \n",
       "4    HarperFlamingo Canada  http://images.amazon.com/images/P/0002005018.0...   \n",
       "\n",
       "                                         Image-URL-M  \\\n",
       "0  http://images.amazon.com/images/P/0195153448.0...   \n",
       "1  http://images.amazon.com/images/P/0002005018.0...   \n",
       "2  http://images.amazon.com/images/P/0002005018.0...   \n",
       "3  http://images.amazon.com/images/P/0002005018.0...   \n",
       "4  http://images.amazon.com/images/P/0002005018.0...   \n",
       "\n",
       "                                         Image-URL-L  User-ID  Book-Rating  \n",
       "0  http://images.amazon.com/images/P/0195153448.0...        2            0  \n",
       "1  http://images.amazon.com/images/P/0002005018.0...        8            5  \n",
       "2  http://images.amazon.com/images/P/0002005018.0...    11400            0  \n",
       "3  http://images.amazon.com/images/P/0002005018.0...    11676            8  \n",
       "4  http://images.amazon.com/images/P/0002005018.0...    41385            0  "
      ]
     },
     "execution_count": 85,
     "metadata": {},
     "output_type": "execute_result"
    }
   ],
   "source": [
    "# Merge books and ratings dataset\n",
    "\n",
    "books_data=books.merge(rating,on=\"ISBN\")\n",
    "books_data.head()"
   ]
  },
  {
   "cell_type": "code",
   "execution_count": 86,
   "id": "84876d71",
   "metadata": {},
   "outputs": [
    {
     "data": {
      "text/html": [
       "<div>\n",
       "<style scoped>\n",
       "    .dataframe tbody tr th:only-of-type {\n",
       "        vertical-align: middle;\n",
       "    }\n",
       "\n",
       "    .dataframe tbody tr th {\n",
       "        vertical-align: top;\n",
       "    }\n",
       "\n",
       "    .dataframe thead th {\n",
       "        text-align: right;\n",
       "    }\n",
       "</style>\n",
       "<table border=\"1\" class=\"dataframe\">\n",
       "  <thead>\n",
       "    <tr style=\"text-align: right;\">\n",
       "      <th></th>\n",
       "      <th>Book-Title</th>\n",
       "      <th>Book-Author</th>\n",
       "      <th>Publisher</th>\n",
       "      <th>Image-URL-L</th>\n",
       "      <th>User-ID</th>\n",
       "      <th>Book-Rating</th>\n",
       "    </tr>\n",
       "  </thead>\n",
       "  <tbody>\n",
       "    <tr>\n",
       "      <th>1</th>\n",
       "      <td>Clara Callan</td>\n",
       "      <td>Richard Bruce Wright</td>\n",
       "      <td>HarperFlamingo Canada</td>\n",
       "      <td>http://images.amazon.com/images/P/0002005018.0...</td>\n",
       "      <td>8</td>\n",
       "      <td>5</td>\n",
       "    </tr>\n",
       "    <tr>\n",
       "      <th>3</th>\n",
       "      <td>Clara Callan</td>\n",
       "      <td>Richard Bruce Wright</td>\n",
       "      <td>HarperFlamingo Canada</td>\n",
       "      <td>http://images.amazon.com/images/P/0002005018.0...</td>\n",
       "      <td>11676</td>\n",
       "      <td>8</td>\n",
       "    </tr>\n",
       "    <tr>\n",
       "      <th>5</th>\n",
       "      <td>Clara Callan</td>\n",
       "      <td>Richard Bruce Wright</td>\n",
       "      <td>HarperFlamingo Canada</td>\n",
       "      <td>http://images.amazon.com/images/P/0002005018.0...</td>\n",
       "      <td>67544</td>\n",
       "      <td>8</td>\n",
       "    </tr>\n",
       "    <tr>\n",
       "      <th>8</th>\n",
       "      <td>Clara Callan</td>\n",
       "      <td>Richard Bruce Wright</td>\n",
       "      <td>HarperFlamingo Canada</td>\n",
       "      <td>http://images.amazon.com/images/P/0002005018.0...</td>\n",
       "      <td>116866</td>\n",
       "      <td>9</td>\n",
       "    </tr>\n",
       "    <tr>\n",
       "      <th>9</th>\n",
       "      <td>Clara Callan</td>\n",
       "      <td>Richard Bruce Wright</td>\n",
       "      <td>HarperFlamingo Canada</td>\n",
       "      <td>http://images.amazon.com/images/P/0002005018.0...</td>\n",
       "      <td>123629</td>\n",
       "      <td>9</td>\n",
       "    </tr>\n",
       "  </tbody>\n",
       "</table>\n",
       "</div>"
      ],
      "text/plain": [
       "     Book-Title           Book-Author              Publisher  \\\n",
       "1  Clara Callan  Richard Bruce Wright  HarperFlamingo Canada   \n",
       "3  Clara Callan  Richard Bruce Wright  HarperFlamingo Canada   \n",
       "5  Clara Callan  Richard Bruce Wright  HarperFlamingo Canada   \n",
       "8  Clara Callan  Richard Bruce Wright  HarperFlamingo Canada   \n",
       "9  Clara Callan  Richard Bruce Wright  HarperFlamingo Canada   \n",
       "\n",
       "                                         Image-URL-L  User-ID  Book-Rating  \n",
       "1  http://images.amazon.com/images/P/0002005018.0...        8            5  \n",
       "3  http://images.amazon.com/images/P/0002005018.0...    11676            8  \n",
       "5  http://images.amazon.com/images/P/0002005018.0...    67544            8  \n",
       "8  http://images.amazon.com/images/P/0002005018.0...   116866            9  \n",
       "9  http://images.amazon.com/images/P/0002005018.0...   123629            9  "
      ]
     },
     "execution_count": 86,
     "metadata": {},
     "output_type": "execute_result"
    }
   ],
   "source": [
    "# make a copy of dataset\n",
    "df=books_data.copy()\n",
    "\n",
    "# drop all null values\n",
    "df.dropna(inplace=True)\n",
    "df.reset_index(drop=True,inplace=True)\n",
    "\n",
    "#drop unnecessary columns\n",
    "df.drop(columns=[\"ISBN\",\"Year-Of-Publication\",\"Image-URL-S\",\"Image-URL-M\"],axis=1,inplace=True)\n",
    "\n",
    "#drop ratings equal to 0 i.e. books with no ratings\n",
    "df.drop(index=df[df[\"Book-Rating\"]==0].index,inplace=True)\n",
    "\n",
    "# clean book title names\n",
    "df[\"Book-Title\"]=df[\"Book-Title\"].apply(lambda x: re.sub(\"[\\W_]+\",\" \",x).strip())\n",
    "df.head()"
   ]
  },
  {
   "cell_type": "markdown",
   "id": "769ce3de",
   "metadata": {},
   "source": [
    "# Popularity Based Recommendating System\n"
   ]
  },
  {
   "cell_type": "code",
   "execution_count": 87,
   "id": "5e001342",
   "metadata": {},
   "outputs": [],
   "source": [
    "def popular_books(df,n=100):\n",
    "    \n",
    "    #calculate the number of times each book is rated \n",
    "    rating_count=df.groupby(\"Book-Title\").count()[\"Book-Rating\"].reset_index()\n",
    "    rating_count.rename(columns={\"Book-Rating\":\"NumberOfVotes\"},inplace=True)\n",
    "    \n",
    "    #calculate the average rating of each book\n",
    "    rating_average=df.groupby(\"Book-Title\")[\"Book-Rating\"].mean().reset_index()\n",
    "    rating_average.rename(columns={\"Book-Rating\":\"AverageRatings\"},inplace=True)\n",
    "    \n",
    "    # merge both the dataframes\n",
    "    popularBooks=rating_count.merge(rating_average,on=\"Book-Title\")\n",
    "    \n",
    "    #function to calculate the bayesian average for ranking books\n",
    "    def weighted_rate(x):\n",
    "        \n",
    "        #number of votes\n",
    "        v=x[\"NumberOfVotes\"]\n",
    "        \n",
    "        #average ratings\n",
    "        R=x[\"AverageRatings\"]\n",
    "        \n",
    "        #formula for bayesian average\n",
    "        bayesian_average = ((v*R) + (m*C)) / (v+C)\n",
    "        \n",
    "        return bayesian_average \n",
    "    \n",
    "    \n",
    "    # caluclate the average of all ratings\n",
    "    m=popularBooks[\"AverageRatings\"].mean()\n",
    "    \n",
    "    # calculating a confidence number which is the 0.90 percentile rating\n",
    "    C=popularBooks[\"NumberOfVotes\"].quantile(0.90)\n",
    "    \n",
    "    # filter books with count of ratings more than 250 for better average\n",
    "    popularBooks=popularBooks[popularBooks[\"NumberOfVotes\"] >=250]\n",
    "    popularBooks[\"Popularity\"]=popularBooks.apply(weighted_rate,axis=1)\n",
    "    popularBooks=popularBooks.sort_values(by=\"Popularity\",ascending=False)\n",
    "    return popularBooks[[\"Book-Title\",\"NumberOfVotes\",\"AverageRatings\",\"Popularity\"]].reset_index(drop=True).head(n)"
   ]
  },
  {
   "cell_type": "code",
   "execution_count": 88,
   "id": "14d058d4",
   "metadata": {},
   "outputs": [
    {
     "name": "stdout",
     "output_type": "stream",
     "text": [
      "10 Most Popular Books\n",
      "********************\n",
      "1. Harry Potter and the Prisoner of Azkaban Book 3|| Rating:  9.0\n",
      "2. To Kill a Mockingbird|| Rating:  9.0\n",
      "3. Harry Potter and the Sorcerer s Stone Harry Potter Paperback|| Rating:  8.9\n",
      "4. Harry Potter and the Chamber of Secrets Book 2|| Rating:  8.8\n",
      "5. Tuesdays with Morrie An Old Man a Young Man and Life s Greatest Lesson|| Rating:  8.6\n",
      "6. The Secret Life of Bees|| Rating:  8.5\n",
      "7. The Da Vinci Code|| Rating:  8.4\n",
      "8. The Lovely Bones A Novel|| Rating:  8.2\n",
      "9. The Red Tent Bestselling Backlist|| Rating:  8.2\n",
      "10. Where the Heart Is Oprah s Book Club Paperback|| Rating:  8.1\n"
     ]
    }
   ],
   "source": [
    "n=10\n",
    "top_ten=pd.DataFrame(popular_books(df,10))\n",
    "print(\"10 Most Popular Books\")\n",
    "print('********************')\n",
    "for i in range(len(top_ten[\"Book-Title\"].tolist())):\n",
    "    book_name=df.loc[df[\"Book-Title\"]==top_ten[\"Book-Title\"].tolist()[i],\"Book-Title\"][:1].values[0]\n",
    "    rating = round(df[df[\"Book-Title\"]==top_ten[\"Book-Title\"].tolist()[i]][\"Book-Rating\"].mean(),1)\n",
    "    print(str(i+1)+\". \"+book_name+\"|| Rating: \", rating)"
   ]
  },
  {
   "cell_type": "markdown",
   "id": "55dfc616",
   "metadata": {},
   "source": [
    "# ITEM BASED COLLABORATIVE FILTERING"
   ]
  },
  {
   "cell_type": "code",
   "execution_count": 23,
   "id": "905d752b",
   "metadata": {},
   "outputs": [
    {
     "data": {
      "text/html": [
       "<div>\n",
       "<style scoped>\n",
       "    .dataframe tbody tr th:only-of-type {\n",
       "        vertical-align: middle;\n",
       "    }\n",
       "\n",
       "    .dataframe tbody tr th {\n",
       "        vertical-align: top;\n",
       "    }\n",
       "\n",
       "    .dataframe thead th {\n",
       "        text-align: right;\n",
       "    }\n",
       "</style>\n",
       "<table border=\"1\" class=\"dataframe\">\n",
       "  <thead>\n",
       "    <tr style=\"text-align: right;\">\n",
       "      <th></th>\n",
       "      <th>Book-Title</th>\n",
       "      <th>Book-Author</th>\n",
       "      <th>Publisher</th>\n",
       "      <th>Image-URL-L</th>\n",
       "      <th>User-ID</th>\n",
       "      <th>Book-Rating</th>\n",
       "    </tr>\n",
       "  </thead>\n",
       "  <tbody>\n",
       "    <tr>\n",
       "      <th>1</th>\n",
       "      <td>Clara Callan</td>\n",
       "      <td>Richard Bruce Wright</td>\n",
       "      <td>HarperFlamingo Canada</td>\n",
       "      <td>http://images.amazon.com/images/P/0002005018.0...</td>\n",
       "      <td>8</td>\n",
       "      <td>5</td>\n",
       "    </tr>\n",
       "    <tr>\n",
       "      <th>3</th>\n",
       "      <td>Clara Callan</td>\n",
       "      <td>Richard Bruce Wright</td>\n",
       "      <td>HarperFlamingo Canada</td>\n",
       "      <td>http://images.amazon.com/images/P/0002005018.0...</td>\n",
       "      <td>11676</td>\n",
       "      <td>8</td>\n",
       "    </tr>\n",
       "    <tr>\n",
       "      <th>5</th>\n",
       "      <td>Clara Callan</td>\n",
       "      <td>Richard Bruce Wright</td>\n",
       "      <td>HarperFlamingo Canada</td>\n",
       "      <td>http://images.amazon.com/images/P/0002005018.0...</td>\n",
       "      <td>67544</td>\n",
       "      <td>8</td>\n",
       "    </tr>\n",
       "    <tr>\n",
       "      <th>8</th>\n",
       "      <td>Clara Callan</td>\n",
       "      <td>Richard Bruce Wright</td>\n",
       "      <td>HarperFlamingo Canada</td>\n",
       "      <td>http://images.amazon.com/images/P/0002005018.0...</td>\n",
       "      <td>116866</td>\n",
       "      <td>9</td>\n",
       "    </tr>\n",
       "    <tr>\n",
       "      <th>9</th>\n",
       "      <td>Clara Callan</td>\n",
       "      <td>Richard Bruce Wright</td>\n",
       "      <td>HarperFlamingo Canada</td>\n",
       "      <td>http://images.amazon.com/images/P/0002005018.0...</td>\n",
       "      <td>123629</td>\n",
       "      <td>9</td>\n",
       "    </tr>\n",
       "  </tbody>\n",
       "</table>\n",
       "</div>"
      ],
      "text/plain": [
       "     Book-Title           Book-Author              Publisher  \\\n",
       "1  Clara Callan  Richard Bruce Wright  HarperFlamingo Canada   \n",
       "3  Clara Callan  Richard Bruce Wright  HarperFlamingo Canada   \n",
       "5  Clara Callan  Richard Bruce Wright  HarperFlamingo Canada   \n",
       "8  Clara Callan  Richard Bruce Wright  HarperFlamingo Canada   \n",
       "9  Clara Callan  Richard Bruce Wright  HarperFlamingo Canada   \n",
       "\n",
       "                                         Image-URL-L  User-ID  Book-Rating  \n",
       "1  http://images.amazon.com/images/P/0002005018.0...        8            5  \n",
       "3  http://images.amazon.com/images/P/0002005018.0...    11676            8  \n",
       "5  http://images.amazon.com/images/P/0002005018.0...    67544            8  \n",
       "8  http://images.amazon.com/images/P/0002005018.0...   116866            9  \n",
       "9  http://images.amazon.com/images/P/0002005018.0...   123629            9  "
      ]
     },
     "execution_count": 23,
     "metadata": {},
     "output_type": "execute_result"
    }
   ],
   "source": [
    "#clean data same as above \n",
    "\n",
    "df=books_data.copy()\n",
    "df.dropna(inplace=True)\n",
    "df.reset_index(drop=True,inplace=True)\n",
    "df.drop(columns=[\"ISBN\",\"Year-Of-Publication\",\"Image-URL-S\",\"Image-URL-M\"],axis=1,inplace=True)\n",
    "df.drop(index=df[df[\"Book-Rating\"]==0].index,inplace=True)\n",
    "df[\"Book-Title\"]=df[\"Book-Title\"].apply(lambda x: re.sub(\"[\\W_]+\",\" \",x).strip())\n",
    "df.head()"
   ]
  },
  {
   "cell_type": "code",
   "execution_count": 92,
   "id": "7b44c37d",
   "metadata": {},
   "outputs": [
    {
     "data": {
      "text/plain": [
       "The Lovely Bones A Novel                                                                   707\n",
       "Wild Animus                                                                                581\n",
       "The Da Vinci Code                                                                          494\n",
       "The Secret Life of Bees                                                                    406\n",
       "The Nanny Diaries A Novel                                                                  393\n",
       "                                                                                          ... \n",
       "The Road Less Traveled A New Psychology of Love Traditional Values and Spiritual Growth      1\n",
       "Clippings from My Notebook                                                                   1\n",
       "Facing the Music Stories The Bright Leaf Short Fiction Series 6                              1\n",
       "No Man Is an Island A Harvest Hbj Book                                                       1\n",
       "From One to One Hundred                                                                      1\n",
       "Name: Book-Title, Length: 134550, dtype: int64"
      ]
     },
     "execution_count": 92,
     "metadata": {},
     "output_type": "execute_result"
    }
   ],
   "source": [
    "df[\"Book-Title\"].value_counts()"
   ]
  },
  {
   "cell_type": "code",
   "execution_count": 56,
   "id": "06f30546",
   "metadata": {},
   "outputs": [],
   "source": [
    "# function for item based collaborative filtering\n",
    "def item_based(bookTitle):\n",
    "    bookTitle=str(bookTitle)\n",
    "    \n",
    "    # check if bookTitle mentioned is in our dataframe\n",
    "    if bookTitle in df[\"Book-Title\"].values:\n",
    "        \n",
    "        # calculate the counts of each book in the dataframe\n",
    "        rating_count=pd.DataFrame(df[\"Book-Title\"].value_counts())\n",
    "        \n",
    "        # if the count is less than 200, then it is a rare book\n",
    "        rare_books=rating_count[rating_count[\"Book-Title\"]<=200].index\n",
    "        \n",
    "        # if count is more than 200 for each book, then it is a common book\n",
    "        common_books=df[~df[\"Book-Title\"].isin(rare_books)]\n",
    "        \n",
    "        if bookTitle in rare_books:\n",
    "            most_common=pd.Series(common_books[\"Book-Title\"].unique()).sample(3).values\n",
    "            print(\"No Recommendations for this Book ☹️ \\n \")\n",
    "            print(\"YOU MAY TRY: \\n \")\n",
    "            print(\"{}\".format(most_common[0]), \"\\n\")\n",
    "            print(\"{}\".format(most_common[1]), \"\\n\")\n",
    "            print(\"{}\".format(most_common[2]), \"\\n\")\n",
    "        else:\n",
    "            common_books_pivot=common_books.pivot_table(index=[\"User-ID\"],columns=[\"Book-Title\"],values=\"Book-Rating\")\n",
    "            title=common_books_pivot[bookTitle]\n",
    "            recommendation_df=pd.DataFrame(common_books_pivot.corrwith(title).sort_values(ascending=False)).reset_index(drop=False)\n",
    "\n",
    "            if bookTitle in [title for title in recommendation_df[\"Book-Title\"]]:\n",
    "                recommendation_df=recommendation_df.drop(recommendation_df[recommendation_df[\"Book-Title\"]==bookTitle].index[0])\n",
    "\n",
    "            less_rating=[]\n",
    "            for i in recommendation_df[\"Book-Title\"]:\n",
    "                if df[df[\"Book-Title\"]==i][\"Book-Rating\"].mean() < 5:\n",
    "                    less_rating.append(i)\n",
    "            if recommendation_df.shape[0] - len(less_rating) > 5:\n",
    "                recommendation_df=recommendation_df[~recommendation_df[\"Book-Title\"].isin(less_rating)]\n",
    "\n",
    "            recommendation_df=recommendation_df[0:5]\n",
    "            recommendation_df.columns=[\"Book-Title\",\"Correlation\"]\n",
    "            \n",
    "            print('Would You Like To Try These Books')\n",
    "            print('*********************************')\n",
    "            for i in range(len(recommendation_df[\"Book-Title\"].tolist())):\n",
    "                book_name=df.loc[df[\"Book-Title\"]==recommendation_df[\"Book-Title\"].tolist()[i],\"Book-Title\"][:1].values[0]\n",
    "                ratings = round(df[df[\"Book-Title\"]==top_ten[\"Book-Title\"].tolist()[i]][\"Book-Rating\"].mean(),1)\n",
    "                print(str(i+1)+\". \"+book_name+\"|| Rating: \", rating)\n",
    "    else:\n",
    "        print(\"❌ COULD NOT FIND ❌\")"
   ]
  },
  {
   "cell_type": "code",
   "execution_count": 89,
   "id": "1d6cea47",
   "metadata": {},
   "outputs": [
    {
     "name": "stdout",
     "output_type": "stream",
     "text": [
      "Would You Like To Try These Books\n",
      "*********************************\n",
      "1. The Nanny Diaries A Novel|| Rating:  8.1\n",
      "2. Summer Sisters|| Rating:  8.1\n",
      "3. The Fellowship of the Ring The Lord of the Rings Part 1|| Rating:  8.1\n",
      "4. Jurassic Park|| Rating:  8.1\n",
      "5. The Lovely Bones A Novel|| Rating:  8.1\n"
     ]
    }
   ],
   "source": [
    "item_based(\"To Kill a Mockingbird\")\n"
   ]
  },
  {
   "cell_type": "code",
   "execution_count": 90,
   "id": "23780c5c",
   "metadata": {},
   "outputs": [
    {
     "name": "stdout",
     "output_type": "stream",
     "text": [
      "Would You Like To Try These Books\n",
      "*********************************\n",
      "1. The Summons|| Rating:  8.1\n",
      "2. The Pilot s Wife A Novel|| Rating:  8.1\n",
      "3. Harry Potter and the Sorcerer s Stone Harry Potter Paperback|| Rating:  8.1\n",
      "4. 1st to Die A Novel|| Rating:  8.1\n",
      "5. The Notebook|| Rating:  8.1\n"
     ]
    }
   ],
   "source": [
    "item_based(\"Harry Potter and the Chamber of Secrets Book 2\")"
   ]
  },
  {
   "cell_type": "code",
   "execution_count": 91,
   "id": "2e2f4cef",
   "metadata": {},
   "outputs": [
    {
     "name": "stdout",
     "output_type": "stream",
     "text": [
      "Would You Like To Try These Books\n",
      "*********************************\n",
      "1. Where the Heart Is Oprah s Book Club Paperback|| Rating:  8.1\n",
      "2. Fahrenheit 451|| Rating:  8.1\n",
      "3. 1st to Die A Novel|| Rating:  8.1\n",
      "4. Harry Potter and the Order of the Phoenix Book 5|| Rating:  8.1\n",
      "5. Summer Sisters|| Rating:  8.1\n"
     ]
    }
   ],
   "source": [
    "item_based(\"The Da Vinci Code\")"
   ]
  },
  {
   "cell_type": "code",
   "execution_count": 51,
   "id": "508ca4ca",
   "metadata": {},
   "outputs": [
    {
     "name": "stdout",
     "output_type": "stream",
     "text": [
      "❌ COULD NOT FIND ❌\n"
     ]
    }
   ],
   "source": [
    "item_based(\"Barbie\")\n"
   ]
  },
  {
   "cell_type": "code",
   "execution_count": 52,
   "id": "3f1fe666",
   "metadata": {},
   "outputs": [
    {
     "name": "stdout",
     "output_type": "stream",
     "text": [
      "No Recommendations for this Book ☹️ \n",
      " \n",
      "YOU MAY TRY: \n",
      " \n",
      "The Testament \n",
      "\n",
      "Harry Potter and the Sorcerer s Stone Harry Potter Paperback \n",
      "\n",
      "The Pilot s Wife A Novel \n",
      "\n"
     ]
    }
   ],
   "source": [
    "item_based(\"El Misterio De Sittaford\")"
   ]
  },
  {
   "cell_type": "markdown",
   "id": "956da53e",
   "metadata": {},
   "source": [
    "# User-based collaborative filtering\n"
   ]
  },
  {
   "cell_type": "code",
   "execution_count": 31,
   "id": "657fdecc",
   "metadata": {},
   "outputs": [],
   "source": [
    "new_df=df[df['User-ID'].map(df['User-ID'].value_counts()) > 200]  # Drop users who vote less than 200 times.\n",
    "users_pivot=new_df.pivot_table(index=[\"User-ID\"],columns=[\"Book-Title\"],values=\"Book-Rating\")\n",
    "users_pivot.fillna(0,inplace=True)"
   ]
  },
  {
   "cell_type": "code",
   "execution_count": 32,
   "id": "d19ef39d",
   "metadata": {},
   "outputs": [],
   "source": [
    "def users_choice(id):\n",
    "    \n",
    "    users_fav=new_df[new_df[\"User-ID\"]==id].sort_values([\"Book-Rating\"],ascending=False)[0:5]\n",
    "    return users_fav"
   ]
  },
  {
   "cell_type": "code",
   "execution_count": 33,
   "id": "0d83b6d0",
   "metadata": {},
   "outputs": [],
   "source": [
    "def user_based(new_df,id):\n",
    "    if id not in new_df[\"User-ID\"].values:\n",
    "        print(\"User NOT FOUND\")\n",
    "        \n",
    "        \n",
    "    else:\n",
    "        index=np.where(users_pivot.index==id)[0][0]\n",
    "        similarity=cosine_similarity(users_pivot)\n",
    "        similar_users=list(enumerate(similarity[index]))\n",
    "        similar_users = sorted(similar_users,key = lambda x:x[1],reverse=True)[0:5]\n",
    "    \n",
    "        user_rec=[]\n",
    "    \n",
    "        for i in similar_users:\n",
    "                data=df[df[\"User-ID\"]==users_pivot.index[i[0]]]\n",
    "                user_rec.extend(list(data.drop_duplicates(\"User-ID\")[\"User-ID\"].values))\n",
    "        \n",
    "    return user_rec"
   ]
  },
  {
   "cell_type": "code",
   "execution_count": 34,
   "id": "1a39c760",
   "metadata": {},
   "outputs": [],
   "source": [
    "def common(new_df,user,user_id):\n",
    "    x=new_df[new_df[\"User-ID\"]==user_id]\n",
    "    recommend_books=[]\n",
    "    user=list(user)\n",
    "    for i in user:\n",
    "        y=new_df[(new_df[\"User-ID\"]==i)]\n",
    "        books=y.loc[~y[\"Book-Title\"].isin(x[\"Book-Title\"]),:]\n",
    "        books=books.sort_values([\"Book-Rating\"],ascending=False)[0:5]\n",
    "        recommend_books.extend(books[\"Book-Title\"].values)\n",
    "        \n",
    "    return recommend_books[0:5]"
   ]
  },
  {
   "cell_type": "code",
   "execution_count": 58,
   "id": "1996a204",
   "metadata": {},
   "outputs": [
    {
     "name": "stdout",
     "output_type": "stream",
     "text": [
      "USER: 11676 \n",
      "Your Favorite Books\n",
      "*******************\n",
      "1. The Heirloom|| Rating:  8.1\n",
      "2. Puppy Love True Stories of Animal Friends|| Rating:  8.1\n",
      "3. Veronika dÃ Â cide de mourir|| Rating:  8.1\n",
      "4. Esperanza Rising|| Rating:  8.1\n",
      "5. Chasing the dragon Hodder Christian paperbacks|| Rating:  8.1\n",
      "\n",
      "\n",
      "You May Also Like These Books\n",
      "*****************************\n",
      "1. The Ruby in the Smoke Sally Lockhart Trilogy Book 1|| Rating:  8.1\n",
      "2. Bridge to Terabithia|| Rating:  8.1\n",
      "3. Life Support|| Rating:  8.1\n",
      "4. The Face of Deception|| Rating:  8.1\n",
      "5. Number the Stars Yearling Newbery|| Rating:  8.1\n"
     ]
    }
   ],
   "source": [
    "user_id=random.choice(new_df[\"User-ID\"].values)\n",
    "user_choice_df=pd.DataFrame(users_choice(user_id))\n",
    "user_favorite=users_choice(user_id)\n",
    "n=len(user_choice_df[\"Book-Title\"].values)\n",
    "print(\"USER: {} \".format(user_id))\n",
    "    \n",
    "print('Your Favorite Books')\n",
    "print('*******************')\n",
    "    \n",
    "for i in range(n):\n",
    "    book_name=new_df.loc[new_df[\"Book-Title\"]==user_choice_df[\"Book-Title\"].tolist()[i],\"Book-Title\"][:1].values[0]\n",
    "    ratings = round(df[df[\"Book-Title\"]==top_ten[\"Book-Title\"].tolist()[i]][\"Book-Rating\"].mean(),1)\n",
    "    print(str(i+1)+\". \"+book_name+\"|| Rating: \", rating)\n",
    "\n",
    "user_based_rec=user_based(new_df,user_id)\n",
    "books_for_user=common(new_df,user_based_rec,user_id)\n",
    "books_for_userDF=pd.DataFrame(books_for_user,columns=[\"Book-Title\"])\n",
    "print()\n",
    "print()\n",
    "print('You May Also Like These Books')\n",
    "print('*****************************')\n",
    "\n",
    "for i in range(5):\n",
    "    book_name=new_df.loc[new_df[\"Book-Title\"]==books_for_userDF[\"Book-Title\"].tolist()[i],\"Book-Title\"][:1].values[0]\n",
    "    ratings = round(df[df[\"Book-Title\"]==top_ten[\"Book-Title\"].tolist()[i]][\"Book-Rating\"].mean(),1)\n",
    "    print(str(i+1)+\". \"+book_name+\"|| Rating: \", rating)"
   ]
  },
  {
   "cell_type": "markdown",
   "id": "ae811b68",
   "metadata": {},
   "source": [
    "# Content Based Collaborative Filtering\n"
   ]
  },
  {
   "cell_type": "code",
   "execution_count": 59,
   "id": "d3a3e3bc",
   "metadata": {},
   "outputs": [],
   "source": [
    "def content_based(bookTitle):\n",
    "    bookTitle=str(bookTitle)\n",
    "    \n",
    "    if bookTitle in df[\"Book-Title\"].values:\n",
    "        rating_count=pd.DataFrame(df[\"Book-Title\"].value_counts())\n",
    "        rare_books=rating_count[rating_count[\"Book-Title\"]<=200].index\n",
    "        common_books=df[~df[\"Book-Title\"].isin(rare_books)]\n",
    "        \n",
    "        if bookTitle in rare_books:\n",
    "            most_common=pd.Series(common_books[\"Book-Title\"].unique()).sample(3).values\n",
    "            print(\"No Recommendations for this Book ☹️ \\n \")\n",
    "            print(\"YOU MAY TRY: \\n \")\n",
    "            print(\"{}\".format(most_common[0]), \"\\n\")\n",
    "            print(\"{}\".format(most_common[1]), \"\\n\")\n",
    "            print(\"{}\".format(most_common[2]), \"\\n\")\n",
    "        else:\n",
    "            common_books=common_books.drop_duplicates(subset=[\"Book-Title\"])\n",
    "            common_books.reset_index(inplace=True)\n",
    "            common_books[\"index\"]=[i for i in range(common_books.shape[0])]\n",
    "            targets=[\"Book-Title\",\"Book-Author\",\"Publisher\"]\n",
    "            common_books[\"all_features\"] = [\" \".join(common_books[targets].iloc[i,].values) for i in range(common_books[targets].shape[0])]\n",
    "            vectorizer=CountVectorizer()\n",
    "            common_booksVector=vectorizer.fit_transform(common_books[\"all_features\"])\n",
    "            similarity=cosine_similarity(common_booksVector)\n",
    "            index=common_books[common_books[\"Book-Title\"]==bookTitle][\"index\"].values[0]\n",
    "            similar_books=list(enumerate(similarity[index]))\n",
    "            similar_booksSorted=sorted(similar_books,key=lambda x:x[1],reverse=True)[1:6]\n",
    "            books=[]\n",
    "            for i in range(len(similar_booksSorted)):\n",
    "                \n",
    "                books.append(common_books[common_books[\"index\"]==similar_booksSorted[i][0]][\"Book-Title\"].item())\n",
    "                \n",
    "            print('You May Like These Books')\n",
    "            print('***********************')\n",
    "            for i in range(len(books)):\n",
    "                \n",
    "                book_name=common_books.loc[common_books[\"Book-Title\"]==books[i],\"Book-Title\"][:1].values[0]\n",
    "                ratings = round(df[df[\"Book-Title\"]==top_ten[\"Book-Title\"].tolist()[i]][\"Book-Rating\"].mean(),1)\n",
    "                print(str(i+1)+\". \"+book_name+\"|| Rating: \", rating)\n",
    "    else:\n",
    "        print(\"COULD NOT FIND \") "
   ]
  },
  {
   "cell_type": "code",
   "execution_count": 60,
   "id": "7eb2107b",
   "metadata": {},
   "outputs": [
    {
     "name": "stdout",
     "output_type": "stream",
     "text": [
      "You May Like These Books\n",
      "***********************\n",
      "1. The Catcher in the Rye|| Rating:  8.1\n",
      "2. The Brethren|| Rating:  8.1\n",
      "3. The Firm|| Rating:  8.1\n",
      "4. The Chamber|| Rating:  8.1\n",
      "5. The Partner|| Rating:  8.1\n"
     ]
    }
   ],
   "source": [
    "content_based(\"The Da Vinci Code\")"
   ]
  },
  {
   "cell_type": "code",
   "execution_count": 61,
   "id": "3319965c",
   "metadata": {},
   "outputs": [
    {
     "name": "stdout",
     "output_type": "stream",
     "text": [
      "You May Like These Books\n",
      "***********************\n",
      "1. The Five People You Meet in Heaven|| Rating:  8.1\n",
      "2. The Brethren|| Rating:  8.1\n",
      "3. Life of Pi|| Rating:  8.1\n",
      "4. The Firm|| Rating:  8.1\n",
      "5. The Chamber|| Rating:  8.1\n"
     ]
    }
   ],
   "source": [
    "content_based(\"Tuesdays with Morrie An Old Man a Young Man and Life s Greatest Lesson\")\n"
   ]
  },
  {
   "cell_type": "code",
   "execution_count": 62,
   "id": "c3137f41",
   "metadata": {},
   "outputs": [
    {
     "name": "stdout",
     "output_type": "stream",
     "text": [
      "No Recommendations for this Book ☹️ \n",
      " \n",
      "YOU MAY TRY: \n",
      " \n",
      "The Street Lawyer \n",
      "\n",
      "Life of Pi \n",
      "\n",
      "Angels amp Demons \n",
      "\n"
     ]
    }
   ],
   "source": [
    "content_based(\"A Soldier of the Great War\")\n"
   ]
  },
  {
   "cell_type": "code",
   "execution_count": 63,
   "id": "06613ad2",
   "metadata": {},
   "outputs": [
    {
     "name": "stdout",
     "output_type": "stream",
     "text": [
      "You May Like These Books\n",
      "***********************\n",
      "1. The Secret Life of Bees|| Rating:  8.1\n",
      "2. Snow Falling on Cedars|| Rating:  8.1\n",
      "3. The Fellowship of the Ring The Lord of the Rings Part 1|| Rating:  8.1\n",
      "4. Harry Potter and the Chamber of Secrets Book 2|| Rating:  8.1\n",
      "5. Harry Potter and the Prisoner of Azkaban Book 3|| Rating:  8.1\n"
     ]
    }
   ],
   "source": [
    "content_based(\"Life of Pi\")\n"
   ]
  },
  {
   "cell_type": "code",
   "execution_count": null,
   "id": "c34d37b4",
   "metadata": {},
   "outputs": [],
   "source": []
  }
 ],
 "metadata": {
  "kernelspec": {
   "display_name": "base",
   "language": "python",
   "name": "python3"
  },
  "language_info": {
   "codemirror_mode": {
    "name": "ipython",
    "version": 3
   },
   "file_extension": ".py",
   "mimetype": "text/x-python",
   "name": "python",
   "nbconvert_exporter": "python",
   "pygments_lexer": "ipython3",
   "version": "3.8.13 (default, Mar 28 2022, 06:16:26) \n[Clang 12.0.0 ]"
  },
  "vscode": {
   "interpreter": {
    "hash": "a553c12639191fc6f04007e589231dbe405364f50a1546fd5765a7237fe54773"
   }
  }
 },
 "nbformat": 4,
 "nbformat_minor": 5
}
